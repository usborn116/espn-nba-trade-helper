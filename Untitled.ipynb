{
 "cells": [
  {
   "cell_type": "code",
   "execution_count": 1,
   "id": "afc2c273-8e91-4276-a838-fa6d3bc04577",
   "metadata": {},
   "outputs": [
    {
     "ename": "SyntaxError",
     "evalue": "invalid syntax (1323435166.py, line 1)",
     "output_type": "error",
     "traceback": [
      "\u001b[0;36m  Cell \u001b[0;32mIn[1], line 1\u001b[0;36m\u001b[0m\n\u001b[0;31m    import espn-api\u001b[0m\n\u001b[0m               ^\u001b[0m\n\u001b[0;31mSyntaxError\u001b[0m\u001b[0;31m:\u001b[0m invalid syntax\n"
     ]
    }
   ],
   "source": [
    "import espn-api\n",
    "import pandas\n",
    "import datetime"
   ]
  },
  {
   "cell_type": "code",
   "execution_count": 2,
   "id": "0dd74d6e-8dc8-47a7-9ef4-1389a98d25e3",
   "metadata": {},
   "outputs": [],
   "source": [
    "import espn_api"
   ]
  },
  {
   "cell_type": "code",
   "execution_count": 3,
   "id": "2608a599-0dde-451b-aa75-6658b6294ad0",
   "metadata": {},
   "outputs": [
    {
     "ename": "NameError",
     "evalue": "name 'League' is not defined",
     "output_type": "error",
     "traceback": [
      "\u001b[0;31m---------------------------------------------------------------------------\u001b[0m",
      "\u001b[0;31mNameError\u001b[0m                                 Traceback (most recent call last)",
      "Cell \u001b[0;32mIn[3], line 1\u001b[0m\n\u001b[0;32m----> 1\u001b[0m l \u001b[38;5;241m=\u001b[39m \u001b[43mLeague\u001b[49m(\u001b[38;5;241m780758162\u001b[39m, \u001b[38;5;241m2024\u001b[39m, \u001b[38;5;124m'\u001b[39m\u001b[38;5;124mAEBZYDetmiWDzCsv91y\u001b[39m\u001b[38;5;124m%\u001b[39m\u001b[38;5;124m2B2bmAqE7WWTx2uT8JhJOE7pLZMjjQLcEt7DrPCRAqVyq0fiMyckLFBdJC1uID0R37CIaMmkghHDG62VAYnNAf7kVimrJfpf4KFUDm97dHy1NUa2TstxStusNhXVIbZbnVuuuKCRbdbQBDNyVRk9AW6Z0I\u001b[39m\u001b[38;5;132;01m%2F\u001b[39;00m\u001b[38;5;124mZIIwOFmStwPerqIiDejDTib94305LWGdRW7CLTcZwcmqtxGvOcq7hGOqYi26CdIPtzNSyEVfwlpdNg0dQuMyYzO\u001b[39m\u001b[38;5;132;01m%2F\u001b[39;00m\u001b[38;5;124mw4w6h\u001b[39m\u001b[38;5;132;01m%2F\u001b[39;00m\u001b[38;5;124muh2OVah59Rw5DVajg\u001b[39m\u001b[38;5;132;01m%2F\u001b[39;00m\u001b[38;5;124mDvGZX9xNTiXTTdCow\u001b[39m\u001b[38;5;124m%\u001b[39m\u001b[38;5;124m3D\u001b[39m\u001b[38;5;124m%\u001b[39m\u001b[38;5;124m3D\u001b[39m\u001b[38;5;124m'\u001b[39m,\u001b[38;5;124m'\u001b[39m\u001b[38;5;124mD2A286A6-4C14-411B-C14B-C070A1A8EF5A\u001b[39m\u001b[38;5;124m'\u001b[39m)\n",
      "\u001b[0;31mNameError\u001b[0m: name 'League' is not defined"
     ]
    }
   ],
   "source": [
    "l = League(780758162, 2024, 'AEBZYDetmiWDzCsv91y%2B2bmAqE7WWTx2uT8JhJOE7pLZMjjQLcEt7DrPCRAqVyq0fiMyckLFBdJC1uID0R37CIaMmkghHDG62VAYnNAf7kVimrJfpf4KFUDm97dHy1NUa2TstxStusNhXVIbZbnVuuuKCRbdbQBDNyVRk9AW6Z0I%2FZIIwOFmStwPerqIiDejDTib94305LWGdRW7CLTcZwcmqtxGvOcq7hGOqYi26CdIPtzNSyEVfwlpdNg0dQuMyYzO%2Fw4w6h%2Fuh2OVah59Rw5DVajg%2FDvGZX9xNTiXTTdCow%3D%3D','D2A286A6-4C14-411B-C14B-C070A1A8EF5A')\n"
   ]
  },
  {
   "cell_type": "code",
   "execution_count": 4,
   "id": "e34596f9-ff09-46e7-89a4-c9ba9b47d4bf",
   "metadata": {},
   "outputs": [],
   "source": [
    "from espn_api.basketball import League"
   ]
  },
  {
   "cell_type": "code",
   "execution_count": 5,
   "id": "73b49c71-a6ef-4470-bab5-78a16ee4667b",
   "metadata": {},
   "outputs": [],
   "source": [
    "l = League(780758162, 2024, 'AEBZYDetmiWDzCsv91y%2B2bmAqE7WWTx2uT8JhJOE7pLZMjjQLcEt7DrPCRAqVyq0fiMyckLFBdJC1uID0R37CIaMmkghHDG62VAYnNAf7kVimrJfpf4KFUDm97dHy1NUa2TstxStusNhXVIbZbnVuuuKCRbdbQBDNyVRk9AW6Z0I%2FZIIwOFmStwPerqIiDejDTib94305LWGdRW7CLTcZwcmqtxGvOcq7hGOqYi26CdIPtzNSyEVfwlpdNg0dQuMyYzO%2Fw4w6h%2Fuh2OVah59Rw5DVajg%2FDvGZX9xNTiXTTdCow%3D%3D','D2A286A6-4C14-411B-C14B-C070A1A8EF5A')"
   ]
  },
  {
   "cell_type": "code",
   "execution_count": 6,
   "id": "3a1c422c-8a73-496a-847b-4c91a750919e",
   "metadata": {},
   "outputs": [
    {
     "data": {
      "text/plain": [
       "Player(Kevin Durant)"
      ]
     },
     "execution_count": 6,
     "metadata": {},
     "output_type": "execute_result"
    }
   ],
   "source": [
    "l.player_info('Kevin Durant')"
   ]
  },
  {
   "cell_type": "code",
   "execution_count": 7,
   "id": "27626c07-e077-4920-9677-643f1bc62c3b",
   "metadata": {},
   "outputs": [],
   "source": [
    "kd = l.player_info('Kevin Durant')"
   ]
  },
  {
   "cell_type": "code",
   "execution_count": 8,
   "id": "c533fcc0-f20e-4ec4-b507-99891d163a26",
   "metadata": {},
   "outputs": [
    {
     "data": {
      "text/plain": [
       "{'PTS': 31.0,\n",
       " 'BLK': 1.1304347826086956,\n",
       " 'STL': 0.782608695652174,\n",
       " 'AST': 5.565217391304348,\n",
       " 'OREB': 0.391304347826087,\n",
       " 'DREB': 5.739130434782608,\n",
       " 'REB': 6.130434782608695,\n",
       " '7': 0.0,\n",
       " '8': 0.0,\n",
       " 'PF': 1.8695652173913044,\n",
       " '10': 0.043478260869565216,\n",
       " 'TO': 3.391304347826087,\n",
       " '12': 0.0,\n",
       " 'FGM': 10.782608695652174,\n",
       " 'FGA': 20.82608695652174,\n",
       " 'FTM': 7.260869565217392,\n",
       " 'FTA': 8.347826086956522,\n",
       " '3PTM': 2.1739130434782608,\n",
       " '3PTA': 4.6521739130434785,\n",
       " 'FG%': 0.5177453,\n",
       " 'FT%': 0.86979167,\n",
       " '3PT%': 0.46728972,\n",
       " '22': 0.56993737,\n",
       " '23': 10.043478260869565,\n",
       " '24': 1.0869565217391304,\n",
       " '25': 2.4782608695652173,\n",
       " '26': 5.56521739,\n",
       " '27': 1.13043478,\n",
       " 'MPG': 36.65217391,\n",
       " '29': 31.0,\n",
       " '30': 6.13043478,\n",
       " '31': 0.7826087,\n",
       " '32': 3.39130435,\n",
       " '33': 2.17391304,\n",
       " '34': 0.84578885,\n",
       " '35': 1.64102564,\n",
       " '36': 0.23076923,\n",
       " '37': 0.17391304347826086,\n",
       " '38': 0.0,\n",
       " '39': 0.0,\n",
       " 'MIN': 36.65217391304348,\n",
       " 'GS': 1.0,\n",
       " 'GP': 23.0,\n",
       " '43': 0.4782608695652174,\n",
       " '44': 0.40083507}"
      ]
     },
     "execution_count": 8,
     "metadata": {},
     "output_type": "execute_result"
    }
   ],
   "source": [
    "kd.stats['2024_total']['avg']"
   ]
  },
  {
   "cell_type": "code",
   "execution_count": 9,
   "id": "44fc37b4-5d49-47cc-88dc-79f28dd8577c",
   "metadata": {},
   "outputs": [
    {
     "ename": "SyntaxError",
     "evalue": "invalid syntax. Perhaps you forgot a comma? (78675946.py, line 1)",
     "output_type": "error",
     "traceback": [
      "\u001b[0;36m  Cell \u001b[0;32mIn[9], line 1\u001b[0;36m\u001b[0m\n\u001b[0;31m    str(Kevin Durant)\u001b[0m\n\u001b[0m        ^\u001b[0m\n\u001b[0;31mSyntaxError\u001b[0m\u001b[0;31m:\u001b[0m invalid syntax. Perhaps you forgot a comma?\n"
     ]
    }
   ],
   "source": [
    "str(Kevin Durant)"
   ]
  },
  {
   "cell_type": "code",
   "execution_count": 11,
   "id": "239dbbfa-e824-4190-b5bb-ca8fb1670fdb",
   "metadata": {},
   "outputs": [],
   "source": [
    "arr = 'Kevin Durant'.split(',')"
   ]
  },
  {
   "cell_type": "code",
   "execution_count": 12,
   "id": "3432621c-8047-4976-882a-e8e037102b92",
   "metadata": {},
   "outputs": [
    {
     "data": {
      "text/plain": [
       "['Kevin Durant']"
      ]
     },
     "execution_count": 12,
     "metadata": {},
     "output_type": "execute_result"
    }
   ],
   "source": [
    "arr"
   ]
  },
  {
   "cell_type": "code",
   "execution_count": 13,
   "id": "234a7467-1681-4c7f-a6ce-488ff331919a",
   "metadata": {},
   "outputs": [
    {
     "ename": "SyntaxError",
     "evalue": "Missing parentheses in call to 'print'. Did you mean print(...)? (2902366077.py, line 5)",
     "output_type": "error",
     "traceback": [
      "\u001b[0;36m  Cell \u001b[0;32mIn[13], line 5\u001b[0;36m\u001b[0m\n\u001b[0;31m    print stat\u001b[0m\n\u001b[0m    ^\u001b[0m\n\u001b[0;31mSyntaxError\u001b[0m\u001b[0;31m:\u001b[0m Missing parentheses in call to 'print'. Did you mean print(...)?\n"
     ]
    }
   ],
   "source": [
    "for player in arr:\n",
    "    player = player.strip()\n",
    "    print(player)\n",
    "    for stat in l.player_info(name = player).stats['2024_total']['avg']:\n",
    "        print stat"
   ]
  },
  {
   "cell_type": "code",
   "execution_count": 14,
   "id": "eb000601-5f03-46e1-b60c-6b6adfccbc8c",
   "metadata": {},
   "outputs": [
    {
     "name": "stdout",
     "output_type": "stream",
     "text": [
      "Kevin Durant\n",
      "PTS\n",
      "BLK\n",
      "STL\n",
      "AST\n",
      "OREB\n",
      "DREB\n",
      "REB\n",
      "7\n",
      "8\n",
      "PF\n",
      "10\n",
      "TO\n",
      "12\n",
      "FGM\n",
      "FGA\n",
      "FTM\n",
      "FTA\n",
      "3PTM\n",
      "3PTA\n",
      "FG%\n",
      "FT%\n",
      "3PT%\n",
      "22\n",
      "23\n",
      "24\n",
      "25\n",
      "26\n",
      "27\n",
      "MPG\n",
      "29\n",
      "30\n",
      "31\n",
      "32\n",
      "33\n",
      "34\n",
      "35\n",
      "36\n",
      "37\n",
      "38\n",
      "39\n",
      "MIN\n",
      "GS\n",
      "GP\n",
      "43\n",
      "44\n"
     ]
    }
   ],
   "source": [
    "for player in arr:\n",
    "    player = player.strip()\n",
    "    print(player)\n",
    "    for stat in l.player_info(name = player).stats['2024_total']['avg']:\n",
    "        print(stat)"
   ]
  },
  {
   "cell_type": "code",
   "execution_count": null,
   "id": "b1645a6c-c909-44e0-9bd7-93b1fa4a4ad4",
   "metadata": {},
   "outputs": [],
   "source": []
  }
 ],
 "metadata": {
  "kernelspec": {
   "display_name": "Python 3 (ipykernel)",
   "language": "python",
   "name": "python3"
  },
  "language_info": {
   "codemirror_mode": {
    "name": "ipython",
    "version": 3
   },
   "file_extension": ".py",
   "mimetype": "text/x-python",
   "name": "python",
   "nbconvert_exporter": "python",
   "pygments_lexer": "ipython3",
   "version": "3.11.4"
  }
 },
 "nbformat": 4,
 "nbformat_minor": 5
}
